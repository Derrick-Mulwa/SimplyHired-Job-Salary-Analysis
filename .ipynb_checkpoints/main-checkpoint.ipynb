{
 "cells": [
  {
   "cell_type": "markdown",
   "id": "a937ac2d",
   "metadata": {},
   "source": [
    "# Analyzing simplyhired.com scraped data\n",
    "## Introduction\n",
    "\n",
    "I [collected data from simplyhired.com](https://github.com/Derrick-Mulwa/Web-Scraping-SimplyHired \"The repository where I scraped the data\") that contains details about jobs being advertised for Data Analysis/Business Analysis positions in the US. The data is stored in the Collected data.csv file in this repository. I will use the data to get insights of the job postings.\n",
    "\n",
    "### These are the ten potential hypotheses I will investigate with this dataset:\n",
    "* Companies with higher ratings tend to offer higher salaries than those with lower ratings.\n",
    "* Jobs in larger cities tend to have higher salaries than those in smaller cities.\n",
    "* Full-time jobs tend to have higher salaries than part-time jobs.\n",
    "* The most common job qualifications for high-paying jobs are related to specific technical skills.\n",
    "* The most common job benefits for high-paying jobs include healthcare and retirement plans.\n",
    "* Salaries in certain states tend to be higher than in others.\n",
    "* Jobs that pay annually tend to pay more than jobs that pay monthly or hourly\n",
    "* Senior analyst's roles tend to have higher salaries than junior analyst roles.\n",
    "* Senior analyst jobs tend to have more job benefits than junior analyst jobs.\n",
    "* Senior analyst roles require more qualifications than junior analyst jobs.\n",
    "* Lower rated companies are more likely to hire junior/Entry level analysts than hiher rated analysts.\n",
    "* There is a positive correlation between the number of job benefits offered and the company rating.\n",
    "\n",
    "\n",
    "\n",
    "\n",
    "\n",
    "\n",
    "\n"
   ]
  },
  {
   "cell_type": "code",
   "execution_count": 1,
   "id": "b14cd2b5",
   "metadata": {},
   "outputs": [],
   "source": [
    "# Import modules to be used\n",
    "import pandas as pd\n",
    "import numpy as np\n",
    "import matplotlib.pyplot as plt\n",
    "from matplotlib import pyplot as plt\n",
    "%matplotlib inline"
   ]
  },
  {
   "cell_type": "markdown",
   "id": "b2dbad9f",
   "metadata": {},
   "source": [
    "## Understanding the data"
   ]
  },
  {
   "cell_type": "code",
   "execution_count": null,
   "id": "985a5968",
   "metadata": {},
   "outputs": [],
   "source": [
    "# read in the data\n",
    "df = pd.read_csv(\"Collected data.csv\", index_col = 0)\n",
    "df.head(5)"
   ]
  },
  {
   "cell_type": "markdown",
   "id": "29b03590",
   "metadata": {},
   "source": [
    "## The dataframe has the following columns:\n",
    "* __job_title__ : Contains the name of position being advertised\t\n",
    "* __company_name__ : Contains the name of the company\n",
    "* __rating__ : Contains the rating of the company (0-5 star company)\n",
    "* __company_location(city)__: Contains the city in which the company is located\n",
    "* __company_location_state__ : Contains the state where the company/organisation is located\n",
    "* __salary_type__ : Defines whether the salary stated is Estimated by simplyhired.com or Explicitly defined by the employer\n",
    "* __payment_cycle__\t: Defines the payment duration (monthly/ hourly/ annually)\n",
    "* __Salary Range From__\t: Low bound of the salary to be paid\n",
    "* __Salary range To__\t: High bound of the salary to be paid\n",
    "* __currency__\t: Currency of the payments ie (dollars/Pound/Euro)\n",
    "* __job_type__\t: Defines whether the job is full time or part time\n",
    "* __job_benefits__: Contains a list of job benefits offered for that position by the company\n",
    "* __qualifications__: Contains a list of job qualifications/skills required for that position by the company\n",
    "* __job_description__: Contains a thorough description of the job."
   ]
  },
  {
   "cell_type": "code",
   "execution_count": null,
   "id": "34640044",
   "metadata": {},
   "outputs": [],
   "source": [
    "df.shape"
   ]
  },
  {
   "cell_type": "markdown",
   "id": "4125a9fb",
   "metadata": {},
   "source": [
    "The dataframe has 5849 records and 14 columns"
   ]
  },
  {
   "cell_type": "code",
   "execution_count": null,
   "id": "76ae811e",
   "metadata": {},
   "outputs": [],
   "source": [
    "df.info()"
   ]
  },
  {
   "cell_type": "markdown",
   "id": "ecc88e8e",
   "metadata": {},
   "source": [
    "## Data Cleaning"
   ]
  },
  {
   "cell_type": "markdown",
   "id": "90c25316",
   "metadata": {},
   "source": [
    "\"Salary Range From\" and \"Salary range To\" columns should be converted to float data type for manipulation."
   ]
  },
  {
   "cell_type": "code",
   "execution_count": null,
   "id": "e1eb4887",
   "metadata": {},
   "outputs": [],
   "source": [
    "df[\"Salary Range From\"]"
   ]
  },
  {
   "cell_type": "code",
   "execution_count": null,
   "id": "28d3aa50",
   "metadata": {},
   "outputs": [],
   "source": [
    "# remove the comma in the values and convert to float\n",
    "\n",
    "df[\"Salary Range From\"].replace(\",\", \"\", regex=True, inplace = True)\n",
    "df[\"Salary range To\"].replace(\",\", \"\", regex=True, inplace = True)\n",
    "\n",
    "\n",
    "#Convert to float\n",
    "df = df.astype({\n",
    "    \"Salary Range From\": float,\n",
    "    \"Salary range To\":float\n",
    "})\n",
    "df.info()"
   ]
  },
  {
   "cell_type": "markdown",
   "id": "49a6fb87",
   "metadata": {},
   "source": [
    "### Remove duplicates"
   ]
  },
  {
   "cell_type": "code",
   "execution_count": null,
   "id": "d3454b23",
   "metadata": {},
   "outputs": [],
   "source": [
    "df[df.duplicated(subset=[\"job_title\",\"company_name\", \"company_location(city)\"], keep=False)].sort_values(by=\"job_title\").count()"
   ]
  },
  {
   "cell_type": "markdown",
   "id": "3b7abf1f",
   "metadata": {},
   "source": [
    "The dataframe has no duplicated records "
   ]
  },
  {
   "cell_type": "code",
   "execution_count": null,
   "id": "d2a4fe31",
   "metadata": {},
   "outputs": [],
   "source": [
    "df.head()"
   ]
  },
  {
   "cell_type": "markdown",
   "id": "3150a036",
   "metadata": {},
   "source": [
    "I need to add a column for the salary that will be a single value. It will be the median value of salary range from and salary range to"
   ]
  },
  {
   "cell_type": "code",
   "execution_count": null,
   "id": "3f91b19b",
   "metadata": {},
   "outputs": [],
   "source": [
    "# Store salary rane from and saslary range to columns in lists\n",
    "\n",
    "salary_range_from = list(df[\"Salary Range From\"])\n",
    "salary_range_to = list(df[\"Salary range To\"])\n",
    "\n",
    "# Get the median value for each record and store in \"salary\" list\n",
    "salary = []\n",
    "for i in range(len(salary_range_from)):\n",
    "    salary.append(pd.Series([salary_range_from[i], salary_range_to[i]]).median())\n",
    "    \n",
    "df.insert((df.columns.get_loc(\"Salary range To\")+1), \"Median_salary\", salary)"
   ]
  },
  {
   "cell_type": "code",
   "execution_count": null,
   "id": "6439943e",
   "metadata": {},
   "outputs": [],
   "source": [
    "df.head()"
   ]
  },
  {
   "cell_type": "markdown",
   "id": "ab98ac62",
   "metadata": {},
   "source": [
    "The column was sucessfully added next to \"Salary range To\" column."
   ]
  },
  {
   "cell_type": "markdown",
   "id": "f9432666",
   "metadata": {},
   "source": [
    "### Drop less important columns"
   ]
  },
  {
   "cell_type": "code",
   "execution_count": null,
   "id": "2484b265",
   "metadata": {},
   "outputs": [],
   "source": [
    "df.currency.value_counts()"
   ]
  },
  {
   "cell_type": "markdown",
   "id": "cb2315f8",
   "metadata": {},
   "source": [
    "The currency column only has $ value and hence should be dropped.\n",
    "\n",
    "The description column contains the roles and responsibilities of the applicant, as well as the application process. This is not useful in this analysis hence the column should be dropped"
   ]
  },
  {
   "cell_type": "code",
   "execution_count": null,
   "id": "e0eafa58",
   "metadata": {},
   "outputs": [],
   "source": [
    "df.drop([\"currency\", \"job_description\"], axis=1, inplace = True)"
   ]
  },
  {
   "cell_type": "code",
   "execution_count": null,
   "id": "1e5358e7",
   "metadata": {},
   "outputs": [],
   "source": [
    "df"
   ]
  },
  {
   "cell_type": "code",
   "execution_count": null,
   "id": "ce0330ea",
   "metadata": {},
   "outputs": [],
   "source": [
    "df.company_location_state.value_counts().sort_index().head(20)"
   ]
  },
  {
   "cell_type": "markdown",
   "id": "729ba55a",
   "metadata": {},
   "source": [
    "Some states have full names while others have abbreviated names. This makes records referring to same state be categorized as different. We need to abbreviate all state names to ensure the data has integrity. "
   ]
  },
  {
   "cell_type": "code",
   "execution_count": null,
   "id": "94e3af6a",
   "metadata": {},
   "outputs": [],
   "source": [
    "# Read a table with the US states and their abbreviations from a website\n",
    "\n",
    "url = \"https://www.bls.gov/respondents/mwr/electronic-data-interchange/appendix-d-usps-state-abbreviations-and-fips-codes.htm\"\n",
    "states = pd.read_html(url)[0]\n",
    "states.columns = list(states.loc[0].values)\n",
    "states = pd.concat([states.iloc[:, :2], states.iloc[:, 3:5]])\n",
    "states.set_index(\"State\", inplace = True)"
   ]
  },
  {
   "cell_type": "code",
   "execution_count": null,
   "id": "d9f5b1ce",
   "metadata": {},
   "outputs": [],
   "source": [
    "# Create a function to rename the states\n",
    "\n",
    "def state_name(x):\n",
    "    try:\n",
    "        x = x.replace(\" State\", \"\")\n",
    "        return states.loc[x].values[0]\n",
    "    except:\n",
    "        return x"
   ]
  },
  {
   "cell_type": "code",
   "execution_count": null,
   "id": "04a3201b",
   "metadata": {},
   "outputs": [],
   "source": [
    "# Apply the function to the column\n",
    "\n",
    "df.company_location_state = df.company_location_state.apply(lambda x: state_name(x))"
   ]
  },
  {
   "cell_type": "code",
   "execution_count": null,
   "id": "d70dc1c6",
   "metadata": {},
   "outputs": [],
   "source": [
    "df"
   ]
  },
  {
   "cell_type": "code",
   "execution_count": null,
   "id": "7ec0c1bc",
   "metadata": {},
   "outputs": [],
   "source": [
    "df.payment_cycle.value_counts(dropna=False)"
   ]
  },
  {
   "cell_type": "code",
   "execution_count": null,
   "id": "45998165",
   "metadata": {},
   "outputs": [],
   "source": [
    "df[\"company_location(city)\"].value_counts().head(30)"
   ]
  },
  {
   "cell_type": "code",
   "execution_count": null,
   "id": "fc960b89",
   "metadata": {},
   "outputs": [],
   "source": [
    "df.job_title.value_counts().head(30)"
   ]
  },
  {
   "cell_type": "markdown",
   "id": "b59d7456",
   "metadata": {},
   "source": [
    "The dataframe looks good to start working on. Lets test the hypotheses\n",
    "\n",
    "# Hypothesis testing\n",
    "### 1. Companies with higher ratings tend to offer higher salaries than those with lower ratings."
   ]
  },
  {
   "cell_type": "code",
   "execution_count": null,
   "id": "81764858",
   "metadata": {},
   "outputs": [],
   "source": [
    "ratings_testing = df.copy()\n",
    "ratings_testing.rating"
   ]
  },
  {
   "cell_type": "code",
   "execution_count": null,
   "id": "52669705",
   "metadata": {},
   "outputs": [],
   "source": [
    "#Drop all nas in the ratings column.\n",
    "\n",
    "ratings_testing.dropna(subset=\"rating\", inplace=True)\n",
    "ratings_testing.head()"
   ]
  },
  {
   "cell_type": "code",
   "execution_count": null,
   "id": "9675dd81",
   "metadata": {},
   "outputs": [],
   "source": [
    "ratings_testing.payment_cycle.unique()"
   ]
  },
  {
   "cell_type": "code",
   "execution_count": null,
   "id": "0180f54d",
   "metadata": {},
   "outputs": [],
   "source": [
    "ratings_testing.payment_cycle.value_counts()"
   ]
  },
  {
   "cell_type": "markdown",
   "id": "e432bd05",
   "metadata": {},
   "source": [
    "The jobs posted have different payment cycles(Annually, Hourly, Monthly, Not Defined) hence would give wrong information. To ensure the integrity of the data, we need to make all payment annuall based and drop all NaNs and jobs whose payment cycles is Not Defined  "
   ]
  },
  {
   "cell_type": "code",
   "execution_count": null,
   "id": "16b7157c",
   "metadata": {},
   "outputs": [],
   "source": [
    "# This function payment_adjuster converts Hourly and monthly salary to its annual value\n",
    "\n",
    "def payment_adjuster(dataframe_):\n",
    "    dataframe = dataframe_.copy()\n",
    "    for index, rows in dataframe.iterrows():\n",
    "        if rows.payment_cycle == \"Hourly\":\n",
    "            dataframe.at[index, \"Median_salary\"] = df.at[index, \"Median_salary\"]*40*52\n",
    "        elif rows.payment_cycle == \"Monthly\":\n",
    "            dataframe.at[index, \"Median_salary\"] = df.at[index, \"Median_salary\"]*12\n",
    "            \n",
    "    return dataframe"
   ]
  },
  {
   "cell_type": "code",
   "execution_count": null,
   "id": "859db64c",
   "metadata": {},
   "outputs": [],
   "source": [
    "# Apply the function payment_adjuster to our dataframe ratings_testing to get annual salary\n",
    "\n",
    "data = payment_adjuster(ratings_testing)\n",
    "\n",
    "# Drop all records whose payment cycles is Not Defined  \n",
    "not_defined_cycle = data[data.payment_cycle == \"Not Defined\"].index\n",
    "data.drop(not_defined_cycle, inplace = True)        \n",
    "\n",
    "# Drop NaNs\n",
    "data.dropna(inplace = True)\n",
    "data"
   ]
  },
  {
   "cell_type": "code",
   "execution_count": null,
   "id": "4cd59ea2",
   "metadata": {},
   "outputs": [],
   "source": [
    "# Group the data by rating column and get the average of the group's salary. From the resultant dataframe, select the \n",
    "# Median_salary column\n",
    "data = ratings_testing.groupby(\"rating\").mean()[\"Median_salary\"]\n",
    "data.sort_index(inplace = True)\n",
    "data = data.to_frame().reset_index()\n",
    "data"
   ]
  },
  {
   "cell_type": "markdown",
   "id": "363d26d0",
   "metadata": {},
   "source": [
    "Plot a line graph of company rating against salary offered"
   ]
  },
  {
   "cell_type": "code",
   "execution_count": null,
   "id": "a043c26c",
   "metadata": {
    "scrolled": true
   },
   "outputs": [],
   "source": [
    "# use ggplot style\n",
    "\n",
    "plt.style.use(\"ggplot\")\n",
    "\n",
    "chart = data.plot.scatter( x=\"rating\", y=\"Median_salary\" ,figsize=(13, 5));\n",
    "chart.set_title(\"SCATTER PLOT OF COMPANY RATING AGAINST SALARY\");\n",
    "chart.set_xlabel(\"COMPANY RATING\");\n",
    "chart.set_ylabel(\"SALARY\");\n",
    "\n"
   ]
  },
  {
   "cell_type": "code",
   "execution_count": null,
   "id": "75032589",
   "metadata": {},
   "outputs": [],
   "source": [
    "# Get the correlation coefficient of the two variable\n",
    "\n",
    "data.rating.corr(data.Median_salary)"
   ]
  },
  {
   "cell_type": "markdown",
   "id": "8b62c649",
   "metadata": {},
   "source": [
    "##### The correlation coefficient between the company rating  and the salary offered is 0.2384. This shows that there is a weak  correlation between the two.\n",
    "\n",
    "Based on our analysis, we found that __there is no significant relationship between a company's rating and the salaries they offer to their employees__. Our results do not support the hypothesis that companies with higher ratings tend to offer higher salaries than those with lower ratings.\n",
    "\n"
   ]
  },
  {
   "cell_type": "markdown",
   "id": "0563423b",
   "metadata": {},
   "source": [
    "### 2. Jobs in larger cities tend to have higher salaries than those in smaller cities.\n"
   ]
  },
  {
   "cell_type": "code",
   "execution_count": null,
   "id": "5c95c258",
   "metadata": {
    "scrolled": true
   },
   "outputs": [],
   "source": [
    "# Apply annual salary to our original dataframe\n",
    "\n",
    "df = payment_adjuster(df)\n",
    "cities = df.copy()\n",
    "\n",
    "cities"
   ]
  },
  {
   "cell_type": "code",
   "execution_count": null,
   "id": "e39b69a2",
   "metadata": {},
   "outputs": [],
   "source": [
    "# Drop all records whose payment cycles is Not Defined  \n",
    "not_defined_cycle = cities[cities.payment_cycle == \"Not Defined\"].index\n",
    "cities.drop(not_defined_cycle, inplace = True)\n",
    "cities"
   ]
  },
  {
   "cell_type": "markdown",
   "id": "3fc77bdc",
   "metadata": {},
   "source": [
    "Checking for data integrity in the columns we will work with (company_location(city) and Median_salary)"
   ]
  },
  {
   "cell_type": "code",
   "execution_count": null,
   "id": "2a2c7497",
   "metadata": {},
   "outputs": [],
   "source": [
    "df[\"company_location(city)\"].nunique()"
   ]
  },
  {
   "cell_type": "code",
   "execution_count": null,
   "id": "27d0f732",
   "metadata": {},
   "outputs": [],
   "source": [
    "df[\"company_location(city)\"].value_counts()"
   ]
  },
  {
   "cell_type": "code",
   "execution_count": null,
   "id": "538f8b3b",
   "metadata": {},
   "outputs": [],
   "source": [
    "cities = cities.loc[:,[\"company_location(city)\", \"Median_salary\"]]\n",
    "cities"
   ]
  },
  {
   "cell_type": "code",
   "execution_count": null,
   "id": "e08e0bf0",
   "metadata": {},
   "outputs": [],
   "source": [
    "cities.dropna(inplace = True)\n",
    "cities"
   ]
  },
  {
   "cell_type": "code",
   "execution_count": null,
   "id": "f9e41860",
   "metadata": {},
   "outputs": [],
   "source": [
    "# Remove remote company location and jobs whose location is United States\n",
    "\n",
    "not_remote = np.invert(cities[\"company_location(city)\"].str.strip().str.startswith(\"Remote\"))\n",
    "not_US = np.invert(cities[\"company_location(city)\"].str.strip().str.startswith(\"United\"))\n",
    "\n",
    "cities = cities[not_remote & not_US]\n",
    "\n",
    "cities"
   ]
  },
  {
   "cell_type": "markdown",
   "id": "47a46678",
   "metadata": {},
   "source": [
    "I used [worldpopulationreview](https://worldpopulationreview.com/us-cities) data to get top 200 cities in the US by population. I also used citymayors(http://www.citymayors.com/statistics/richest-cities-2020.html) data to get top 23 US citiesby GDP"
   ]
  },
  {
   "cell_type": "code",
   "execution_count": null,
   "id": "09298b33",
   "metadata": {},
   "outputs": [],
   "source": [
    "# Read json file with the 200 largest cities in the US by population.\n",
    "large_cities_by_population = pd.read_json(r\"large cities US.json\")\n",
    "large_cities_by_population"
   ]
  },
  {
   "cell_type": "code",
   "execution_count": null,
   "id": "94f9d488",
   "metadata": {},
   "outputs": [],
   "source": [
    "# Get only city names\n",
    "\n",
    "large_cities_by_population = list(large_cities_by_population.name.values)\n",
    "large_cities_by_population"
   ]
  },
  {
   "cell_type": "code",
   "execution_count": null,
   "id": "a9ce08ce",
   "metadata": {},
   "outputs": [],
   "source": [
    "x = pd.read_html(\"http://www.citymayors.com/statistics/richest-cities-2020.html\")[2]"
   ]
  },
  {
   "cell_type": "code",
   "execution_count": null,
   "id": "c9f5a191",
   "metadata": {},
   "outputs": [],
   "source": [
    "x.columns = x.loc[0].values\n",
    "x.drop(0, inplace = True)\n",
    "x"
   ]
  },
  {
   "cell_type": "code",
   "execution_count": null,
   "id": "518e6bfc",
   "metadata": {},
   "outputs": [],
   "source": [
    "# Get only city names in USA\n",
    "large_cities_by_GDP = list(x[x[\"Country\"] == \"USA\"][\"City/Urban area\"].values)\n",
    "large_cities_by_GDP"
   ]
  },
  {
   "cell_type": "code",
   "execution_count": null,
   "id": "2243da5c",
   "metadata": {},
   "outputs": [],
   "source": [
    "large_cities = large_cities_by_GDP+large_cities_by_population\n",
    "# remove duplicates\n",
    "\n",
    "large_cities = list(set(large_cities))"
   ]
  },
  {
   "cell_type": "code",
   "execution_count": null,
   "id": "26184837",
   "metadata": {},
   "outputs": [],
   "source": [
    "df_cities = list(cities[\"company_location(city)\"].values)"
   ]
  },
  {
   "cell_type": "code",
   "execution_count": null,
   "id": "5f78505a",
   "metadata": {},
   "outputs": [],
   "source": [
    "# Check if the company location is in a Large or Small citr.\n",
    "larger_or_smaller = []\n",
    "\n",
    "for city in df_cities:\n",
    "    if city.strip() in large_cities:\n",
    "        larger_or_smaller.append(\"Large\")\n",
    "    else:\n",
    "        larger_or_smaller.append(\"Small\")"
   ]
  },
  {
   "cell_type": "code",
   "execution_count": null,
   "id": "c735cd4b",
   "metadata": {},
   "outputs": [],
   "source": [
    "cities[\"larger_or_smaller\"] = larger_or_smaller\n",
    "cities"
   ]
  },
  {
   "cell_type": "code",
   "execution_count": null,
   "id": "0437565f",
   "metadata": {},
   "outputs": [],
   "source": [
    "cities.larger_or_smaller.value_counts()"
   ]
  },
  {
   "cell_type": "markdown",
   "id": "59e18bc0",
   "metadata": {},
   "source": [
    "There are 313 more large cities than small cities"
   ]
  },
  {
   "cell_type": "code",
   "execution_count": null,
   "id": "53912b59",
   "metadata": {},
   "outputs": [],
   "source": [
    "graph = cities.groupby(\"larger_or_smaller\").mean().plot(kind=\"bar\", figsize = (20,10));\n",
    "graph.set_xlabel(\"LARGE VS SMALL COMPANY\");\n",
    "graph.set_ylabel(\"AERAGE SALARY\");\n",
    "graph.set_title(\"COMPANY SIZE AGAINST AVERAGE SALARY\");\n"
   ]
  },
  {
   "cell_type": "markdown",
   "id": "fbfe78e3",
   "metadata": {},
   "source": [
    "Based on the findings above, it appears that the hypothesis that jobs in larger cities tend to have higher salaries than those in smaller cities is supported. The mean salary for large cities is 85408.613554 and the mean salary for small cities is 82016.848687, which is higher in larger cities"
   ]
  },
  {
   "cell_type": "markdown",
   "id": "ec2d4150",
   "metadata": {},
   "source": [
    "### 3. Full-time jobs tend to have higher salaries than part-time jobs."
   ]
  },
  {
   "cell_type": "code",
   "execution_count": null,
   "id": "2b75512c",
   "metadata": {},
   "outputs": [],
   "source": [
    "full_parttime_df = df.copy()\n",
    "full_parttime_df"
   ]
  },
  {
   "cell_type": "code",
   "execution_count": null,
   "id": "3bb7fd60",
   "metadata": {},
   "outputs": [],
   "source": [
    "full_parttime_df.dropna(subset = \"job_type\", inplace = True)\n",
    "full_parttime_df"
   ]
  },
  {
   "cell_type": "code",
   "execution_count": null,
   "id": "d7d7719a",
   "metadata": {},
   "outputs": [],
   "source": [
    "full_parttime_df.job_type.unique()"
   ]
  },
  {
   "cell_type": "markdown",
   "id": "2ab0b6c3",
   "metadata": {},
   "source": [
    "Clean the job_type column. Remove the \"contract\", \"temporary\", \"Internship\" etc attributes that join full-time/part-time value"
   ]
  },
  {
   "cell_type": "code",
   "execution_count": null,
   "id": "e55750bd",
   "metadata": {},
   "outputs": [],
   "source": [
    "full_parttime_df.job_type = full_parttime_df.job_type.replace(\" \\| Contract\", \"\", regex=True)\\\n",
    "                                                     .replace(\" \\| Temporary\", \"\", regex=True)\\\n",
    "                                                     .replace(\" \\| Internship\", \"\", regex=True)"
   ]
  },
  {
   "cell_type": "code",
   "execution_count": null,
   "id": "1619609f",
   "metadata": {},
   "outputs": [],
   "source": [
    "# Pick only Part-time and full time jobs\n",
    "data = full_parttime_df[(full_parttime_df.job_type == \"Full-time\") | (full_parttime_df.job_type == \"Part-time\")]\n",
    "data = data.loc[:, [\"job_type\", \"Median_salary\"]]\n",
    "data.job_type.value_counts()"
   ]
  },
  {
   "cell_type": "code",
   "execution_count": null,
   "id": "6d56af99",
   "metadata": {},
   "outputs": [],
   "source": [
    "data.groupby(\"job_type\").mean()"
   ]
  },
  {
   "cell_type": "code",
   "execution_count": null,
   "id": "f5aed7e1",
   "metadata": {},
   "outputs": [],
   "source": [
    "graph = data.groupby(\"job_type\").mean().plot(kind = \"bar\", figsize = (12,8));\n",
    "graph.set_title(\"JOB TYPE AGAINST AVERAGE SALARY\");\n",
    "graph.set_xlabel(\"FORM OF EMPLOYMENT\");\n",
    "graph.set_ylabel(\"AVERAGE SALARY\");"
   ]
  },
  {
   "cell_type": "markdown",
   "id": "749ca7a8",
   "metadata": {},
   "source": [
    "Based on the above findings, the hypothesis that full-time jobs tend to have higher salaries than part-time jobs __is supported.__ The mean salary for full-time jobs is 82240.688367, and the mean salary for part-time jobs is 75769.491892, which is __higher in full-time jobs.__"
   ]
  },
  {
   "cell_type": "markdown",
   "id": "3738583d",
   "metadata": {},
   "source": [
    "### 4. The most common job qualifications for high-paying jobs are related to specific technical skills."
   ]
  },
  {
   "cell_type": "code",
   "execution_count": null,
   "id": "b4e797cb",
   "metadata": {},
   "outputs": [],
   "source": [
    "# In this section, I will work with a copy of our original dataframe and name it job_qualification_df\n",
    "\n",
    "job_qualification_df = df.copy()\n",
    "job_qualification_df"
   ]
  },
  {
   "cell_type": "code",
   "execution_count": null,
   "id": "b0540f1c",
   "metadata": {},
   "outputs": [],
   "source": [
    "# For each job, the qualifications are listed as a string, ache qualification being seperated by a comma.\n",
    "\n",
    "job_qualification_df.qualifications.dropna(inplace = True)\n",
    "job_qualification_df.qualifications"
   ]
  },
  {
   "cell_type": "code",
   "execution_count": null,
   "id": "9708126e",
   "metadata": {},
   "outputs": [],
   "source": [
    "# There are 4488 rows that have qualifications listed. They can give insights of qualifications and skills required\n",
    "# Lets store the qualifications in a list for easier manipulation\n",
    "job_qualification_list = list(job_qualification_df.qualifications.values)\n",
    "job_qualification_list"
   ]
  },
  {
   "cell_type": "markdown",
   "id": "ea5e8404",
   "metadata": {},
   "source": [
    "I will create a function that loops through the list items, which are the job qualification requirements for each job. The function will count the number of times each qualification is mentioned in a job"
   ]
  },
  {
   "cell_type": "code",
   "execution_count": null,
   "id": "f24c1969",
   "metadata": {},
   "outputs": [],
   "source": [
    "# The function loops through all the row's qualifications,identifies the qualification individually,\n",
    "# and counts the times it has been mentioned as a requirement. It then returns two lists, one with the unique \n",
    "# qualifications/skills, and another list with coressponding count of the skill(number of times mentioned)\n",
    "\n",
    "\n",
    "def qualification_calculator(list_x):\n",
    "    qualification_name = []\n",
    "    qualification_count = []\n",
    "   \n",
    "    for qualifications in list_x:\n",
    "        qualifications_list = str(qualifications).split(\",\")\n",
    "        for qualification in qualifications_list:\n",
    "            qualification = qualification.strip().upper()\n",
    "            if qualification not in qualification_name:\n",
    "                qualification_name.append(qualification)\n",
    "                qualification_count.append(1)\n",
    "            else:   \n",
    "                qalification_index = qualification_name.index(qualification)\n",
    "                qualification_count[qalification_index] = qualification_count[qalification_index] +1\n",
    "                \n",
    "    return qualification_name, qualification_count       \n",
    "                                "
   ]
  },
  {
   "cell_type": "code",
   "execution_count": null,
   "id": "becdcc14",
   "metadata": {},
   "outputs": [],
   "source": [
    "# Apply the qualification_calculator() function to the job_qualification_list to get the most required qualification\n",
    "skills = qualification_calculator(job_qualification_list)[0]\n",
    "frequency = qualification_calculator(job_qualification_list)[1]\n",
    "\n",
    "# create a dataframe of the skills and count\n",
    "skills_df = pd.DataFrame({\n",
    "    \"Skill\": skills,\n",
    "    \"Frequency\": frequency\n",
    "}).set_index(\"Skill\")\n",
    "\n",
    "\n",
    "skills_df"
   ]
  },
  {
   "cell_type": "markdown",
   "id": "94178eec",
   "metadata": {},
   "source": [
    "There are 971 different skills required for a data analyst role from all the jobs posted "
   ]
  },
  {
   "cell_type": "code",
   "execution_count": null,
   "id": "ab08f559",
   "metadata": {},
   "outputs": [],
   "source": [
    "graph = skills_df.sort_values(by=\"Frequency\").tail(20).plot(kind = \"barh\", figsize = (17,11));\n",
    "graph.set_title(\"MOST REQUIRED QUALIFICATION IN ALL ADVERTIZED JOBS\");\n",
    "graph.set_xlabel(\"NUMBER OF TIMES IN QUALIFICATIONS\");\n",
    "graph.set_ylabel(\"QUALIFICATION\");"
   ]
  },
  {
   "cell_type": "markdown",
   "id": "012dee82",
   "metadata": {},
   "source": [
    "From all job posts, a Bachelor's Degree is the most required qualification followed by Excell and SQL. Power BI is required more than Tableau and Powerpoint. Analysis and communication skills are highly required for a data analyst role. \n",
    "\n",
    "However, this is based on all jobs posted. What about the jobs that pay a salary above average?"
   ]
  },
  {
   "cell_type": "code",
   "execution_count": null,
   "id": "0913ad86",
   "metadata": {},
   "outputs": [],
   "source": [
    "above_average_df = job_qualification_df[job_qualification_df.Median_salary>job_qualification_df.Median_salary.mean()]\n",
    "\n",
    "job_qualification_list = list(above_average_df.qualifications.values)\n",
    "\n",
    "skills = qualification_calculator(job_qualification_list)[0]\n",
    "frequency = qualification_calculator(job_qualification_list)[1]\n",
    "\n",
    "# create a dataframe of the skills and count\n",
    "skills_df = pd.DataFrame({\n",
    "    \"Skill\": skills,\n",
    "    \"Frequency\": frequency\n",
    "}).set_index(\"Skill\")\n",
    "\n",
    "\n",
    "graph = skills_df.sort_values(by=\"Frequency\").tail(20).plot(kind = \"barh\", figsize = (17,11));\n",
    "graph.set_title(\"MOST REQUIRED QUALIFICATION JOBS THAT PAY ABOVE AVERAGE\");\n",
    "graph.set_xlabel(\"NUMBER OF TIMES IN QUALIFICATIONS\");\n",
    "graph.set_ylabel(\"QUALIFICATION\");"
   ]
  },
  {
   "cell_type": "markdown",
   "id": "bba9c0fc",
   "metadata": {},
   "source": [
    "The trend is almost the same for higher paying jobs, but SQL has more popularity than Excel in higher paying jobs. \n",
    "\n",
    "What about the top 20 most paying jobs?"
   ]
  },
  {
   "cell_type": "code",
   "execution_count": null,
   "id": "f7c4d99b",
   "metadata": {
    "scrolled": false
   },
   "outputs": [],
   "source": [
    "top_20_df = job_qualification_df.nlargest(20, \"Median_salary\")\n",
    "job_qualification_list = list(top_20_df.qualifications.values)\n",
    "\n",
    "skills = qualification_calculator(job_qualification_list)[0]\n",
    "frequency = qualification_calculator(job_qualification_list)[1]\n",
    "\n",
    "# create a dataframe of the skills and count\n",
    "skills_df = pd.DataFrame({\n",
    "    \"Skill\": skills,\n",
    "    \"Frequency\": frequency\n",
    "}).set_index(\"Skill\")\n",
    "\n",
    "\n",
    "graph = skills_df.sort_values(by=\"Frequency\").tail(20).plot(kind = \"barh\", figsize = (17,11));\n",
    "graph.set_title(\"MOST REQUIRED QUALIFICATION FOR THE TOP 20 MOST PAYING JOBS\");\n",
    "graph.set_xlabel(\"NUMBER OF TIMES IN QUALIFICATIONS\");\n",
    "graph.set_ylabel(\"QUALIFICATION\");"
   ]
  },
  {
   "cell_type": "markdown",
   "id": "6f2c5a11",
   "metadata": {},
   "source": [
    "A bachelors Degree is still the most required qualification, followed by SQL and Tableau in this category, contrary to what has been of the previous categories. Tableau is also more valuable than Power BI and Excel in this category. \n",
    "\n",
    "\n",
    "From the analysis, the hypothesis that the most common job qualifications for high-paying jobs are related to specific technical skills is supported. Most companies require:\n",
    "* SQL\n",
    "* Excel\n",
    "* Analysis skills\n",
    "* Communication skills\n",
    "* Power BI\n",
    "* Project management\n",
    "\n",
    "However,the most required qualification(A Bachelor's Degree) is not a technicall skill.\n"
   ]
  },
  {
   "cell_type": "markdown",
   "id": "e6c8292b",
   "metadata": {},
   "source": [
    "### 5. The most common job benefits for high-paying jobs include healthcare and retirement plans."
   ]
  },
  {
   "cell_type": "code",
   "execution_count": null,
   "id": "1f5ab5c1",
   "metadata": {},
   "outputs": [],
   "source": [
    "benefits_df = df.copy()\n",
    "benefits_df.dropna(subset=\"job_benefits\", inplace = True)\n",
    "benefits_df"
   ]
  },
  {
   "cell_type": "code",
   "execution_count": null,
   "id": "18aba8c0",
   "metadata": {},
   "outputs": [],
   "source": [
    "benefits_df.job_benefits"
   ]
  },
  {
   "cell_type": "markdown",
   "id": "a6646cea",
   "metadata": {},
   "source": [
    "The job benefits are listed just like qualifications. I will create a function benefits_calculator that will get the frequency of job benefits offered"
   ]
  },
  {
   "cell_type": "code",
   "execution_count": null,
   "id": "e11f8b69",
   "metadata": {},
   "outputs": [],
   "source": [
    "def benefits_calculator(list_x):\n",
    "    benefits_name = []\n",
    "    benefits_count = []\n",
    "   \n",
    "    for benefits in list_x:\n",
    "        benefits_list = str(benefits).split(\",\")\n",
    "        for benefit in benefits_list:\n",
    "            benefit = benefit.strip().upper()\n",
    "            if benefit not in benefits_name:\n",
    "                benefits_name.append(benefit)\n",
    "                benefits_count.append(1)\n",
    "            else:   \n",
    "                benefit_index = benefits_name.index(benefit)\n",
    "                benefits_count[benefit_index] = benefits_count[benefit_index] +1\n",
    "                \n",
    "    return benefits_name, benefits_count      \n",
    "                                "
   ]
  },
  {
   "cell_type": "code",
   "execution_count": null,
   "id": "f7e6d181",
   "metadata": {},
   "outputs": [],
   "source": [
    "# Plot a graph of the most offered job benefits\n",
    "\n",
    "benefits_list = list(benefits_df.job_benefits.values)\n",
    "\n",
    "\n",
    "benefits = benefits_calculator(benefits_list)[0]\n",
    "frequency = benefits_calculator(benefits_list)[1]\n",
    "\n",
    "# create a dataframe of the skills and count\n",
    "skills_df = pd.DataFrame({\n",
    "    \"Skill\": benefits,\n",
    "    \"Frequency\": frequency\n",
    "}).set_index(\"Skill\")\n",
    "\n",
    "\n",
    "graph = skills_df.sort_values(\"Frequency\").tail(15).plot(kind = \"barh\", figsize=(20,13));\n",
    "graph.set_title(\"TOP 15 JOB BENEFITS OFFERED BY ALL JOB POSTINGS\\n\", {'fontsize': 20});\n",
    "graph.set_xlabel(\"NUMBER OF JOBS OFFERING THE BENEFIT\", {'fontsize': 20});\n",
    "graph.set_ylabel(\"BENEFIT\", {'fontsize':30});"
   ]
  },
  {
   "cell_type": "code",
   "execution_count": null,
   "id": "79e247c5",
   "metadata": {},
   "outputs": [],
   "source": [
    "# Plot a graph of the most offered job benefits\n",
    "\n",
    "above_average_df = benefits_df[benefits_df.Median_salary>benefits_df.Median_salary.mean()]\n",
    "benefits_list = list(above_average_df.job_benefits.values)\n",
    "\n",
    "\n",
    "benefits = benefits_calculator(benefits_list)[0]\n",
    "frequency = benefits_calculator(benefits_list)[1]\n",
    "\n",
    "# create a dataframe of the skills and count\n",
    "skills_df = pd.DataFrame({\n",
    "    \"Skill\": benefits,\n",
    "    \"Frequency\": frequency\n",
    "}).set_index(\"Skill\")\n",
    "\n",
    "\n",
    "graph = skills_df.sort_values(\"Frequency\").tail(15).plot(kind = \"barh\", figsize=(20,13));\n",
    "graph.set_title(\"MOST OFFERED JOB BENEFITS BY ABOVE AVERAGE-PAYING JOBS\\n\", {'fontsize': 20});\n",
    "graph.set_xlabel(\"NUMBER OF JOBS OFFERING THE BENEFIT\", {'fontsize': 20});\n",
    "graph.set_ylabel(\"BENEFIT\", {'fontsize':30});"
   ]
  },
  {
   "cell_type": "code",
   "execution_count": null,
   "id": "6a3ee7ae",
   "metadata": {},
   "outputs": [],
   "source": [
    "most_paying_df = benefits_df.nlargest(20, \"Median_salary\")\n",
    "\n",
    "benefits_list = list(most_paying_df.job_benefits.values)\n",
    "\n",
    "benefits = benefits_calculator(benefits_list)[0]\n",
    "frequency = benefits_calculator(benefits_list)[1]\n",
    "\n",
    "# create a dataframe of the skills and count\n",
    "skills_df = pd.DataFrame({\n",
    "    \"Skill\": benefits,\n",
    "    \"Frequency\": frequency\n",
    "}).set_index(\"Skill\")\n",
    "\n",
    "\n",
    "graph = skills_df.sort_values(\"Frequency\").tail(15).plot(kind = \"barh\", figsize=(20,13));\n",
    "graph.set_title(\"MOST OFFERED JOB BENEFITS BY ABOVE AVERAGE-PAYING JOBS\\n\", {'fontsize': 20});\n",
    "graph.set_xlabel(\"NUMBER OF JOBS OFFERING THE BENEFIT\", {'fontsize': 20});\n",
    "graph.set_ylabel(\"BENEFIT\", {'fontsize':30});"
   ]
  },
  {
   "cell_type": "markdown",
   "id": "90e6876a",
   "metadata": {},
   "source": [
    "Based on the above analysis, it appears that the hypothesis that healthcare and retirement plans are the most common job benefits for high-paying jobs __is true__. The findings show that health insurance, dental insurance, 401(k), and 401(k) matching are among the top five benefits offered in all categories of the jobs I analyzed. This confirms that high-paying jobs tend to offer more comprehensive and generous benefits packages, including healthcare and retirement plans"
   ]
  },
  {
   "cell_type": "markdown",
   "id": "53d844f7",
   "metadata": {},
   "source": [
    "### 6. Salaries in certain states tend to be higher than in others."
   ]
  },
  {
   "cell_type": "code",
   "execution_count": null,
   "id": "93c2e0f3",
   "metadata": {},
   "outputs": [],
   "source": []
  }
 ],
 "metadata": {
  "kernelspec": {
   "display_name": "Python 3 (ipykernel)",
   "language": "python",
   "name": "python3"
  },
  "language_info": {
   "codemirror_mode": {
    "name": "ipython",
    "version": 3
   },
   "file_extension": ".py",
   "mimetype": "text/x-python",
   "name": "python",
   "nbconvert_exporter": "python",
   "pygments_lexer": "ipython3",
   "version": "3.9.12"
  }
 },
 "nbformat": 4,
 "nbformat_minor": 5
}
